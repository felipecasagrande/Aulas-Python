{
 "cells": [
  {
   "cell_type": "code",
   "execution_count": 1,
   "metadata": {},
   "outputs": [
    {
     "name": "stdout",
     "output_type": "stream",
     "text": [
      "Olá Mundo\n",
      "Como foi o dia hoje?\n"
     ]
    }
   ],
   "source": [
    "print(\"Olá Mundo\")\n",
    "print(f\"Como foi o dia hoje?\")"
   ]
  },
  {
   "cell_type": "code",
   "execution_count": 2,
   "metadata": {},
   "outputs": [
    {
     "name": "stdout",
     "output_type": "stream",
     "text": [
      "Samuel Carneiro\n"
     ]
    }
   ],
   "source": [
    "print(\"Samuel Carneiro\")"
   ]
  },
  {
   "cell_type": "code",
   "execution_count": 3,
   "metadata": {},
   "outputs": [],
   "source": [
    "nome1 = \"Felipe\""
   ]
  },
  {
   "cell_type": "code",
   "execution_count": 4,
   "metadata": {},
   "outputs": [],
   "source": [
    "nome2=\"Samuel\""
   ]
  },
  {
   "cell_type": "code",
   "execution_count": 5,
   "metadata": {},
   "outputs": [],
   "source": [
    "nome3=\"Samuel Carneiro\""
   ]
  },
  {
   "cell_type": "code",
   "execution_count": 6,
   "metadata": {},
   "outputs": [],
   "source": [
    "variavel_nome=\"Felipe Casagrande\""
   ]
  },
  {
   "cell_type": "code",
   "execution_count": 7,
   "metadata": {},
   "outputs": [
    {
     "name": "stdout",
     "output_type": "stream",
     "text": [
      "\n",
      "Meu nome é \n"
     ]
    }
   ],
   "source": [
    "nome=input(\"Digite um nome:\")\n",
    "print(nome)\n",
    "print(f\"Meu nome é {nome}\")"
   ]
  },
  {
   "cell_type": "code",
   "execution_count": 8,
   "metadata": {},
   "outputs": [
    {
     "name": "stdout",
     "output_type": "stream",
     "text": [
      "Nome: \n",
      "Idade: \n",
      "Nome: \n",
      "Idade: \n"
     ]
    }
   ],
   "source": [
    "nome4=input(\"Digite um nome\")\n",
    "idadeFelipe=input(\"Digite um sobrenome: \")\n",
    "print(\"Nome: \"+nome4+\"\\nIdade: \"+idadeFelipe)\n",
    "print(f\"Nome: {nome4}\\nIdade: {idadeFelipe}\")"
   ]
  },
  {
   "cell_type": "code",
   "execution_count": 9,
   "metadata": {},
   "outputs": [
    {
     "name": "stdout",
     "output_type": "stream",
     "text": [
      "Nome: \n",
      "Idade: \n"
     ]
    },
    {
     "ename": "NameError",
     "evalue": "name 'idade' is not defined",
     "output_type": "error",
     "traceback": [
      "\u001b[1;31m---------------------------------------------------------------------------\u001b[0m",
      "\u001b[1;31mNameError\u001b[0m                                 Traceback (most recent call last)",
      "Cell \u001b[1;32mIn[9], line 4\u001b[0m\n\u001b[0;32m      2\u001b[0m idadesamuel\u001b[38;5;241m=\u001b[39m\u001b[38;5;28minput\u001b[39m(\u001b[38;5;124m\"\u001b[39m\u001b[38;5;124mDigite uma idade\u001b[39m\u001b[38;5;124m\"\u001b[39m)\n\u001b[0;32m      3\u001b[0m \u001b[38;5;28mprint\u001b[39m(\u001b[38;5;124m\"\u001b[39m\u001b[38;5;124mNome: \u001b[39m\u001b[38;5;124m\"\u001b[39m\u001b[38;5;241m+\u001b[39mnome5\u001b[38;5;241m+\u001b[39m\u001b[38;5;124m\"\u001b[39m\u001b[38;5;130;01m\\n\u001b[39;00m\u001b[38;5;124mIdade: \u001b[39m\u001b[38;5;124m\"\u001b[39m\u001b[38;5;241m+\u001b[39midadesamuel)\n\u001b[1;32m----> 4\u001b[0m \u001b[38;5;28mprint\u001b[39m(\u001b[38;5;124mf\u001b[39m\u001b[38;5;124m\"\u001b[39m\u001b[38;5;124mNome: \u001b[39m\u001b[38;5;132;01m{\u001b[39;00mnome5\u001b[38;5;132;01m}\u001b[39;00m\u001b[38;5;130;01m\\n\u001b[39;00m\u001b[38;5;124mIdade:\u001b[39m\u001b[38;5;132;01m{\u001b[39;00m\u001b[43midade\u001b[49m\u001b[38;5;132;01m}\u001b[39;00m\u001b[38;5;124m\"\u001b[39m)\n",
      "\u001b[1;31mNameError\u001b[0m: name 'idade' is not defined"
     ]
    }
   ],
   "source": [
    "nome5=input(\"Digite um nome\")\n",
    "idadesamuel=input(\"Digite uma idade\")\n",
    "print(\"Nome: \"+nome5+\"\\nIdade: \"+idadesamuel)\n",
    "print(f\"Nome: {nome5}\\nIdade:{idade}\")"
   ]
  },
  {
   "cell_type": "code",
   "execution_count": 47,
   "metadata": {},
   "outputs": [
    {
     "name": "stdout",
     "output_type": "stream",
     "text": [
      "Nome: Samuel Carneiro\n",
      "Idade: 22\n",
      "Peso: 80\n",
      "Numero do telefone: 6505878104\n",
      "Nome: Samuel Carneiro\n",
      "Idade: 22\n",
      "Peso: 80kilos\n",
      "Numero de telefone: 6505878104\n"
     ]
    }
   ],
   "source": [
    "nome=input(\"Digite seu nome completo:\")\n",
    "idade=input(\"Digite sua idade:\")\n",
    "peso=input(\"Digite seu peso:\")\n",
    "numero_de_telefone=input(\"Digite seu numero de telefone:\")\n",
    "print(\"Nome: \"+nome+\"\\nIdade: \"+idade+\"\\nPeso: \"+peso+\"\\nNumero do telefone: \"+numero_de_telefone)\n",
    "print(f\"Nome: {nome}\\nIdade: {idade}\\nPeso: {peso} kilos\\nNumero de telefone: {numero_de_telefone}\")"
   ]
  },
  {
   "cell_type": "code",
   "execution_count": 49,
   "metadata": {},
   "outputs": [
    {
     "name": "stdout",
     "output_type": "stream",
     "text": [
      "Primeiro Nome: Samuel\n",
      "Sobrenome: Carneiro\n",
      "Idade: 22\n",
      "Telefone: 6505878104\n",
      "Meu nome é Samuel\n",
      "Meu sobrenome é Carneiro\n",
      "Eu tenho 22 anos\n",
      "O meu numero de telefone é 6505878104\n"
     ]
    }
   ],
   "source": [
    "nome=input(\"Digite seu nome\")\n",
    "sobrenome=input(\"Digite seu sobrenome\")\n",
    "idade=input(\"Digite sua idade\")\n",
    "telefone=input(\"Digite seu numero telefonico\")\n",
    "print(\"Primeiro Nome: \"+nome+\"\\nSobrenome: \"+sobrenome+\"\\nIdade: \"+idade+\"\\nTelefone: \"+telefone)\n",
    "print(f\"Meu nome é {nome}\\nMeu sobrenome é {sobrenome}\\nEu tenho {idade} anos\\nO meu numero de telefone é {telefone}\")"
   ]
  },
  {
   "cell_type": "code",
   "execution_count": null,
   "metadata": {},
   "outputs": [
    {
     "name": "stdout",
     "output_type": "stream",
     "text": [
      "Primeiro Nome: Samuel\n",
      "Sobrenome: Carneiro\n",
      "Idade: 22\n",
      "Peso: 80\n",
      "Numero de Telefone: 6505878104\n",
      "Cor Favorita: Azul\n",
      "Nome: Samuel\n",
      "Sobrenome: Carneiro\n",
      "Idade: 22\n",
      "Peso: 80\n",
      "Telefone: 6505878104\n",
      "Cor Favorita: Azul\n"
     ]
    }
   ],
   "source": [
    "nome=input(\"Digite seu Primeiro Nome\")\n",
    "sobrenome=input(\"Digite seu Sobrenome\")\n",
    "idade=input(\"Digite sua Idade\")\n",
    "peso=input(\"Digite seu Peso\")\n",
    "telefone=input(\"Digite seu telefone\")\n",
    "cor=input(\"Digite sua Cor Favorita\")\n",
    "print(\"Primeiro Nome: \"+nome+\"\\nSobrenome: \"+sobrenome+\"\\nIdade: \"+idade+\"\\nPeso: \"+peso+\"\\nNumero de Telefone: \"+telefone+\"\\nCor Favorita: \"+cor)\n",
    "print(f\"Nome: {nome}\\nSobrenome: {sobrenome}\\nIdade: {idade}\\nPeso: {peso} kilos\\nTelefone: {telefone}\\nCor Favorita: {cor}\")"
   ]
  },
  {
   "cell_type": "code",
   "execution_count": 51,
   "metadata": {},
   "outputs": [
    {
     "name": "stdout",
     "output_type": "stream",
     "text": [
      "Nome: Samuel\n",
      "Sobrenome: Carneiro\n",
      "Idade: 22\n",
      "Peso: 80\n",
      "Telefone: (650) 587-8104\n",
      "Nome: Samuel\n",
      "Sobrenome: Carneiro\n",
      "Idade: 22 anos\n",
      "Peso: 80 kilos\n",
      "Telefone: (650) 587-8104\n"
     ]
    }
   ],
   "source": [
    "nome=input(\"Digite seu nome\")\n",
    "sobrenome=input(\"Digite seu sobrenome\")\n",
    "idade=input(\"Digite sua idade\")\n",
    "peso=input(\"Digite seu peso\")\n",
    "telefone=input(\"Digite seu telefone\")\n",
    "print(\"Nome: \"+nome+\"\\nSobrenome: \"+sobrenome+\"\\nIdade: \"+idade+\"\\nPeso: \"+peso+\"\\nTelefone: \"+telefone)\n",
    "print(f\"Nome: {nome}\\nSobrenome: {sobrenome}\\nIdade: {idade} anos\\nPeso: {peso} kilos\\nTelefone: {telefone}\")"
   ]
  },
  {
   "cell_type": "code",
   "execution_count": 52,
   "metadata": {},
   "outputs": [
    {
     "name": "stdout",
     "output_type": "stream",
     "text": [
      "Peso: 800 kilos\n",
      "Nome: Daniel Alvez\n",
      "Peso: 800 kilos\n",
      "Nome: Daniel Alvez\n"
     ]
    }
   ],
   "source": [
    "peso=input(\"Digite seu peso\")\n",
    "nome=input(\"Digite seu nome\")\n",
    "print(\"Peso: \"+peso+\" kilos\"+\"\\nNome: \"+nome)\n",
    "print(f\"Peso: {peso} kilos\\nNome: {nome}\")"
   ]
  },
  {
   "cell_type": "code",
   "execution_count": 53,
   "metadata": {},
   "outputs": [
    {
     "name": "stdout",
     "output_type": "stream",
     "text": [
      "Sum: 30.1\n",
      "Total: 30.1\n"
     ]
    }
   ],
   "source": [
    "first=input(\"First: \")\n",
    "second=input(\"Second: \")\n",
    "sum=float(first)+float(second) #if we add two floats python does not recognize as str\n",
    "print(\"Sum: \"+str(sum))\n",
    "print(f\"Total: {sum}\")"
   ]
  },
  {
   "cell_type": "code",
   "execution_count": null,
   "metadata": {},
   "outputs": [
    {
     "name": "stdout",
     "output_type": "stream",
     "text": [
      "Print: 30.1\n",
      "print 30.1\n"
     ]
    }
   ],
   "source": [
    "first=float(input(\"First: \")) #another way to write the formula\n",
    "second=float(input(\"Second: \"))\n",
    "sum=first+second\n",
    "print(\"Print: \"+str(sum))\n",
    "print(f\"Print {sum}\")"
   ]
  },
  {
   "cell_type": "code",
   "execution_count": null,
   "metadata": {},
   "outputs": [
    {
     "name": "stdout",
     "output_type": "stream",
     "text": [
      "Print: 23\n",
      "Minha idade: 23\n"
     ]
    }
   ],
   "source": [
    "year=int(input(\"Year: \"))\n",
    "birth_year=int(input(\"Birth Year: \"))\n",
    "age=year-birth_year\n",
    "\n",
    "print(\"Print: \"+str(age)) #CASTING converter variaveis... int > str print so imprime str(year)\n",
    "print(f\"Minha idade: {age}\")"
   ]
  },
  {
   "cell_type": "code",
   "execution_count": 62,
   "metadata": {},
   "outputs": [
    {
     "name": "stdout",
     "output_type": "stream",
     "text": [
      "47\n",
      "Minha idade: 47\n"
     ]
    }
   ],
   "source": [
    "birth_year=input(\"Type your Birth Year: \")\n",
    "age=2025-int(birth_year)\n",
    "print(age) #why print(\"Age: \"+age) doesn't work?\n",
    "print(f\"Minha idade: {age}\")"
   ]
  },
  {
   "cell_type": "code",
   "execution_count": 59,
   "metadata": {},
   "outputs": [
    {
     "name": "stdout",
     "output_type": "stream",
     "text": [
      "Age: 55\n",
      "Idade so Neto: 55\n"
     ]
    }
   ],
   "source": [
    "birth_year=input(\"Digite seu ano de nascimento: \")\n",
    "age=2025-int(birth_year)\n",
    "print(\"Age: \"+str(age))\n",
    "print(f\"Idade so Neto: {age}\")"
   ]
  },
  {
   "cell_type": "code",
   "execution_count": 60,
   "metadata": {},
   "outputs": [
    {
     "name": "stdout",
     "output_type": "stream",
     "text": [
      "Sum:3956.0\n",
      "Idade de Viviane: 3956.0\n"
     ]
    }
   ],
   "source": [
    "first=float(input(\"Digite um numero: \"))\n",
    "second=float(input(\"Digite um numero\"))\n",
    "sum=first+second\n",
    "print(\"Sum:\"+str(sum))\n",
    "print(f\"Idade de Viviane: {sum}\")"
   ]
  },
  {
   "cell_type": "code",
   "execution_count": 68,
   "metadata": {},
   "outputs": [
    {
     "name": "stdout",
     "output_type": "stream",
     "text": [
      "PYTHON\n",
      "Eu amo estudar Python\n"
     ]
    }
   ],
   "source": [
    "name='Python'\n",
    "print(name.upper())\n",
    "print(f\"Eu amo estudar {name}\")"
   ]
  },
  {
   "cell_type": "code",
   "execution_count": 30,
   "metadata": {},
   "outputs": [
    {
     "name": "stdout",
     "output_type": "stream",
     "text": [
      "3\n"
     ]
    }
   ],
   "source": [
    "name=\"chuva\"\n",
    "print(name.find('v'))"
   ]
  },
  {
   "cell_type": "code",
   "execution_count": 31,
   "metadata": {},
   "outputs": [
    {
     "name": "stdout",
     "output_type": "stream",
     "text": [
      "chuta\n"
     ]
    }
   ],
   "source": [
    "name=\"chuva\"\n",
    "print(name.replace('v', 't'))"
   ]
  },
  {
   "cell_type": "code",
   "execution_count": 7,
   "metadata": {},
   "outputs": [
    {
     "name": "stdout",
     "output_type": "stream",
     "text": [
      "Nome: Samuel\n",
      "Sobrenome: Carneiro\n",
      "Idade: 22\n",
      "Peso: 80 kilos\n",
      "Telefone: (650) 587-8104\n"
     ]
    }
   ],
   "source": [
    "nome=input(\"Digite seu Nome:\\n\")\n",
    "sobrenome=input(\"Digite seu Sobrenome:\\n\")\n",
    "idade=input(\"Digite sua Idade:\\n\")\n",
    "peso=input(\"Digite seu peso em kilos\\n\")\n",
    "telefone=input(\"Digite seu Numero de Telefone:\\n\")\n",
    "print(\"Nome: \"+nome+\"\\nSobrenome: \"+sobrenome+\"\\nIdade: \"+idade+\"\\nPeso: \"+peso+\" kilos\"+\"\\nTelefone: \"+telefone)"
   ]
  },
  {
   "cell_type": "code",
   "execution_count": 11,
   "metadata": {},
   "outputs": [
    {
     "name": "stdout",
     "output_type": "stream",
     "text": [
      "13\n"
     ]
    }
   ],
   "source": [
    "print(10+3)"
   ]
  },
  {
   "cell_type": "code",
   "execution_count": 12,
   "metadata": {},
   "outputs": [
    {
     "name": "stdout",
     "output_type": "stream",
     "text": [
      "16\n"
     ]
    }
   ],
   "source": [
    "x=10+3*2\n",
    "print(x)"
   ]
  },
  {
   "cell_type": "code",
   "execution_count": 13,
   "metadata": {},
   "outputs": [
    {
     "name": "stdout",
     "output_type": "stream",
     "text": [
      "26\n"
     ]
    }
   ],
   "source": [
    "x=(10+3)*2\n",
    "print(x)"
   ]
  },
  {
   "cell_type": "code",
   "execution_count": 14,
   "metadata": {},
   "outputs": [
    {
     "name": "stdout",
     "output_type": "stream",
     "text": [
      "True\n"
     ]
    }
   ],
   "source": [
    "x=3>2\n",
    "print(x)"
   ]
  },
  {
   "cell_type": "code",
   "execution_count": 15,
   "metadata": {},
   "outputs": [
    {
     "name": "stdout",
     "output_type": "stream",
     "text": [
      "True\n"
     ]
    }
   ],
   "source": [
    "price=25\n",
    "print(price>10)"
   ]
  },
  {
   "cell_type": "code",
   "execution_count": 20,
   "metadata": {},
   "outputs": [
    {
     "name": "stdout",
     "output_type": "stream",
     "text": [
      "Done\n"
     ]
    }
   ],
   "source": [
    "temperatura=25\n",
    "if temperatura>30:\n",
    "    print(\"It's a hot day\")\n",
    "print(\"Done\")\n"
   ]
  },
  {
   "cell_type": "code",
   "execution_count": 33,
   "metadata": {},
   "outputs": [
    {
     "name": "stdout",
     "output_type": "stream",
     "text": [
      "It's a nice day\n"
     ]
    }
   ],
   "source": [
    "temperatura=21 #como que eu faco pra isso virar input?\n",
    "if temperatura>30:\n",
    "    print(\"It's a hot day\")\n",
    "    print(\"Drink water\")\n",
    "elif temperatura>20:\n",
    "    print(\"It's a nice day\")\n",
    "elif temperatura>10:\n",
    "    print(\"It's a cold day\")\n",
    "else:\n",
    "    print(\"It's cold\")\n",
    "    print(\"Drink coffe\")"
   ]
  }
 ],
 "metadata": {
  "kernelspec": {
   "display_name": "Python 3",
   "language": "python",
   "name": "python3"
  },
  "language_info": {
   "codemirror_mode": {
    "name": "ipython",
    "version": 3
   },
   "file_extension": ".py",
   "mimetype": "text/x-python",
   "name": "python",
   "nbconvert_exporter": "python",
   "pygments_lexer": "ipython3",
   "version": "3.13.1"
  }
 },
 "nbformat": 4,
 "nbformat_minor": 2
}
